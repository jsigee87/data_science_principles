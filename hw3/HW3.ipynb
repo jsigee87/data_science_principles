{
 "cells": [
  {
   "cell_type": "markdown",
   "metadata": {},
   "source": [
    "Daniel Diamont (dd28977)\n",
    "John Sigmon (jsjs85773)"
   ]
  },
  {
   "cell_type": "code",
   "execution_count": 1,
   "metadata": {},
   "outputs": [
    {
     "name": "stderr",
     "output_type": "stream",
     "text": [
      "/home/daniel/Documents/data_mining/local/lib/python2.7/site-packages/sklearn/ensemble/weight_boosting.py:29: DeprecationWarning: numpy.core.umath_tests is an internal NumPy module and should not be imported. It will be removed in a future NumPy release.\n",
      "  from numpy.core.umath_tests import inner1d\n"
     ]
    }
   ],
   "source": [
    "import pandas as pd\n",
    "import numpy as np\n",
    "import sklearn as sk\n",
    "\n",
    "# algorithms and helpers\n",
    "from sklearn.model_selection import GridSearchCV\n",
    "from sklearn.ensemble import RandomForestRegressor\n",
    "from xgboost import XGBRegressor\n",
    "from sklearn.metrics import mean_squared_error\n",
    "from sklearn.preprocessing import StandardScaler\n",
    "from sklearn.model_selection import train_test_split\n",
    "from sklearn.linear_model import LinearRegression\n",
    "from sklearn.linear_model import HuberRegressor\n",
    "from sklearn.model_selection import KFold\n",
    "from sklearn.linear_model import Lasso\n",
    "from sklearn.linear_model import Ridge\n",
    "from sklearn.linear_model import LassoCV\n",
    "from sklearn.linear_model import RidgeCV\n",
    "from sklearn.model_selection import cross_val_score\n",
    "from sklearn.preprocessing import StandardScaler\n",
    "from sklearn.decomposition import PCA\n",
    "from scipy.stats import skew\n",
    "from scipy.stats import pearsonr\n",
    "from pandas.plotting import scatter_matrix\n",
    "from mlxtend.feature_selection import SequentialFeatureSelector as SFS\n",
    "from mlxtend.plotting import plot_sequential_feature_selection as plot_sfs\n",
    "\n",
    "# visualization\n",
    "import matplotlib.pyplot as plt\n",
    "import seaborn as sns\n",
    "\n",
    "%matplotlib inline\n",
    "\n",
    "import warnings\n",
    "warnings.filterwarnings('ignore')"
   ]
  },
  {
   "cell_type": "markdown",
   "metadata": {},
   "source": [
    "\n",
    "# <p style=\"text-align: center;\">EE 461P: Data Science Principles</p>\n",
    "# <p style=\"text-align: center;\">Assignment 3</p>\n",
    "## <p style=\"text-align: center;\">Total points: 75</p>\n",
    "## <p style=\"text-align: center;\">Due: Thursday, October 25th, submitted via Canvas by 11:59 pm</p>\n",
    "\n",
    "Your homework should be written in a **Jupyter notebook**. You may work in groups of two if you wish. Only one student per team needs to submit the assignment on Canvas.  **Please include the name and UTEID for both students on all submitted files (including this notebook).** In addition, please convert **your filename including your EID** (ex. ss324.jpynb or ss324_mj345.jpypb).\n",
    "\n",
    "Also, please make sure your code runs and the graphics (and anything else) are displayed in your notebook before submitting. (%matplotlib inline)"
   ]
  },
  {
   "cell_type": "markdown",
   "metadata": {},
   "source": [
    "# Question 1a - Stochastic Gradient Descent (25pts)"
   ]
  },
  {
   "cell_type": "markdown",
   "metadata": {},
   "source": [
    "1. (4pts) Using stochastic gradient descent, derive the coefficent updates for all 4 coefficients of the model: $$ y = w_0 + w_1x_1 + w_2x_1^2 + w_3x_1x_2 $$ Hint: start from the cost function (Assume sum of squared error). If you write the math by hand, include the image in your notebook."
   ]
  },
  {
   "cell_type": "markdown",
   "metadata": {},
   "source": [
    "# TODO"
   ]
  },
  {
   "cell_type": "markdown",
   "metadata": {},
   "source": [
    "2. (12pts) Write Python code for an SGD solution to the non-linear model $$ y = w_0 + w_1x_1 + w_2x_1^2 + w_3x_1x_2$$ Try to format similarly to scikit-learn's models. Your class should take as input the learning_rate, regularization_constant and number of epochs. The fit method must take as input X,y and a choice of update_rule as 'sgd' or 'sgd_momentum' or 'rmsprop'(Notes on implementation below). The _predict_ method takes an X value (optionally, an array of values). Use your new gradient descent regression to predict the data given in 'samples.csv', for 15 epochs, using learning rates: [.0001, .001, .01, 0.1, 1, 10, 100] and regularization constants in the range: [0,10,100] . Plot MSE and the $w$ parameters as a function of epoch (for 15 epochs) for the best 2 combinations of learning_rate and regularization for SGD, SGD-Momentum and RMSProp. I.e., you should have one plot of MSE and another for the parameter updates for SGD, SGD-Momentum and RMSProp (6 plots total)."
   ]
  },
  {
   "cell_type": "code",
   "execution_count": 132,
   "metadata": {},
   "outputs": [],
   "source": [
    "from sklearn.base import BaseEstimator\n",
    "from sklearn.metrics import mean_squared_error\n",
    "\n",
    "class SGD(BaseEstimator):\n",
    "    \n",
    "    def __init__(self, learning_rate=0.0001, Lambda=0, epochs=100):\n",
    "        self.learning_rate = learning_rate\n",
    "        self.Lambda = Lambda\n",
    "        self.epochs = epochs\n",
    "    \n",
    "    def fit(self, data, label, update_rule='sgd'):\n",
    "        \"\"\"\n",
    "        fit takes in data, label, and an update rule.\n",
    "        Args:\n",
    "            data   (np.ndarray): Must be randomly loaded from data set to be SGD\n",
    "            label  (np.ndarray): Target labels\n",
    "            update_rule (string): \n",
    "        \"\"\"\n",
    "#         print(\"Data: {}\".format(data.shape))\n",
    "#         print(\"label: {}\".format(label.shape))\n",
    "\n",
    "        # center data\n",
    "        data = (data-data.mean())/data.std()\n",
    "        label = (label-label.mean())/label.std()\n",
    "        \n",
    "        W = np.random.uniform(size=(data.shape[1],))\n",
    "        \n",
    "#         print(\"Weights: {}\".format(W.shape))\n",
    "        \n",
    "        W = W.reshape(1,-1)\n",
    "        \n",
    "#         print(\"Reshaped Weights: {}\".format(W.shape))\n",
    "        \n",
    "        velocity = (np.zeros((data.shape[1],))).reshape(1,-1)\n",
    "#         print(\"V: \" + str(velocity.shape))\n",
    "        \n",
    "        self.update_rule = update_rule\n",
    "        self.data = data\n",
    "        self.label = label\n",
    "        \n",
    "        mse_hist = []\n",
    "        W0_hist = []\n",
    "        W1_hist = []\n",
    "        \n",
    "        for epoch in np.arange(0, self.epochs):\n",
    "            \n",
    "            mse = []\n",
    "            W_epoch0 = np.zeros(data.shape[0],)\n",
    "            W_epoch1 = np.zeros(data.shape[0],)\n",
    "            i = 0\n",
    "            \n",
    "#             print(\"EPOCH: \" + str(epoch))\n",
    "            \n",
    "            for (batchX, batchY) in self.next_batch(data, label):\n",
    "                \n",
    "#                 print(\"batchX: {}\".format(batchX.shape))\n",
    "#                 print(\"batchY: {}\".format(batchY.shape))\n",
    "                \n",
    "                pred = self.sigmoid((np.dot(batchX, W.T)))\n",
    "\n",
    "                error = mean_squared_error(pred,batchY)\n",
    "#                 print(\"error: {}\".format(error.shape))\n",
    "                loss = (error) + self.Lambda*(np.dot(W, W.T))\n",
    "                mse.append(error)\n",
    "                \n",
    "                gradient = (2 * batchX * np.asscalar(np.array(error))) + (2 * self.Lambda * W)\n",
    "            \n",
    "#                 print(\"*************\")\n",
    "#                 print(\"W: \" + str(W))\n",
    "#                 print()\n",
    "#                 print(\"error: \" + str(error))\n",
    "#                 print()\n",
    "#                 print(\"loss: \" + str(loss))\n",
    "#                 print()\n",
    "#                 print(\"gradient: \" + str(gradient))\n",
    "#                 print(\"**************\")\n",
    "                \n",
    "                if(update_rule is 'sgd'):\n",
    "                    W += -self.learning_rate * gradient\n",
    "                    W_epoch0[i] = W[0][0]\n",
    "                    W_epoch1[i] = W[0][1]\n",
    "                    i = i + 1\n",
    "\n",
    "                elif(update_rule is 'sgd_momentum'):\n",
    "                    gradient = np.array(gradient)\n",
    "                    velocity =  (0.9 * velocity) - (self.learning_rate * gradient)\n",
    "                    W += velocity\n",
    "                    W_epoch0[i] = W[0][0]\n",
    "                    W_epoch1[i] = W[0][1]\n",
    "                    i = i + 1\n",
    "                    \n",
    "                elif(update_rule is 'rmsprop'):\n",
    "                    gradient = np.array(gradient)\n",
    "                    velocity = (0.9 * velocity) + (0.1 * np.dot(gradient, gradient.T))\n",
    "                    delta_W = (self.learning_rate * gradient)/(np.sqrt(velocity + 1e-6))\n",
    "                    W = W - delta_W\n",
    "                    W_epoch0[i] = W[0][0]\n",
    "                    W_epoch1[i] = W[0][1]\n",
    "                    i = i + 1\n",
    "\n",
    "                else:\n",
    "                    raise velocityalueError('invalid update rule')\n",
    "            \n",
    "            mse_hist.append(np.array(mse).mean())\n",
    "            W0_hist.append(W_epoch0.mean())\n",
    "            W1_hist.append(W_epoch1.mean())\n",
    "\n",
    "        self.W = W\n",
    "        self.mse_hist = mse_hist\n",
    "        self.W0_hist = W0_hist\n",
    "        self.W1_hist = W1_hist\n",
    "        return self\n",
    "        \n",
    "    def get_params(self, deep=True):\n",
    "        param_dict = {'learning_rate': self.learning_rate,\n",
    "                     'Lambda': self.Lambda,\n",
    "                     'epochs': self.epochs,}\n",
    "        \n",
    "        return param_dict\n",
    "    \n",
    "    def set_params(self, **param_dict):\n",
    "        self.learning_rate = param_dict['learning_rate']\n",
    "        self.Lambda = param_dict['Lambda']\n",
    "        self.epochs = param_dict['epochs']\n",
    "        \n",
    "        return self\n",
    "    \n",
    "    def predict(self, X):\n",
    "        return np.dot(X, self.W.T)\n",
    "    \n",
    "    def next_batch(self, X, y):\n",
    "        for i in np.arange(0, X.shape[0], 1):\n",
    "            yield (X[i:i + 1], y[i:i + 1])\n",
    "            \n",
    "    def sigmoid(self, x):\n",
    "        return 1.0 / (1 + np.exp(-x))"
   ]
  },
  {
   "cell_type": "code",
   "execution_count": 133,
   "metadata": {},
   "outputs": [],
   "source": [
    "sgd = SGD()"
   ]
  },
  {
   "cell_type": "markdown",
   "metadata": {},
   "source": [
    "Use your new gradient descent regression to predict the data given in 'samples.csv', for 15 epochs, using learning rates: [.0001, .001, .01, 0.1, 1, 10, 100] and regularization constants in the range: [0,10,100] . Plot MSE and the w parameters as a function of epoch (for 15 epochs) for the best 2 combinations of learning_rate and regularization for SGD, SGD-Momentum and RMSProp. I.e., you should have one plot of MSE and another for the parameter updates for SGD, SGD-Momentum and RMSProp (6 plots total)."
   ]
  },
  {
   "cell_type": "code",
   "execution_count": 134,
   "metadata": {},
   "outputs": [
    {
     "data": {
      "text/html": [
       "<div>\n",
       "<style scoped>\n",
       "    .dataframe tbody tr th:only-of-type {\n",
       "        vertical-align: middle;\n",
       "    }\n",
       "\n",
       "    .dataframe tbody tr th {\n",
       "        vertical-align: top;\n",
       "    }\n",
       "\n",
       "    .dataframe thead th {\n",
       "        text-align: right;\n",
       "    }\n",
       "</style>\n",
       "<table border=\"1\" class=\"dataframe\">\n",
       "  <thead>\n",
       "    <tr style=\"text-align: right;\">\n",
       "      <th></th>\n",
       "      <th>Unnamed: 0</th>\n",
       "      <th>x1</th>\n",
       "      <th>x2</th>\n",
       "      <th>y</th>\n",
       "    </tr>\n",
       "  </thead>\n",
       "  <tbody>\n",
       "    <tr>\n",
       "      <th>0</th>\n",
       "      <td>0</td>\n",
       "      <td>4.697532</td>\n",
       "      <td>1.135251</td>\n",
       "      <td>-18.284819</td>\n",
       "    </tr>\n",
       "    <tr>\n",
       "      <th>1</th>\n",
       "      <td>1</td>\n",
       "      <td>-0.324355</td>\n",
       "      <td>1.042443</td>\n",
       "      <td>-0.251914</td>\n",
       "    </tr>\n",
       "    <tr>\n",
       "      <th>2</th>\n",
       "      <td>2</td>\n",
       "      <td>-0.982079</td>\n",
       "      <td>4.053857</td>\n",
       "      <td>-2.350819</td>\n",
       "    </tr>\n",
       "    <tr>\n",
       "      <th>3</th>\n",
       "      <td>3</td>\n",
       "      <td>2.637966</td>\n",
       "      <td>4.107375</td>\n",
       "      <td>-2.831104</td>\n",
       "    </tr>\n",
       "    <tr>\n",
       "      <th>4</th>\n",
       "      <td>4</td>\n",
       "      <td>4.359560</td>\n",
       "      <td>3.727414</td>\n",
       "      <td>-12.663515</td>\n",
       "    </tr>\n",
       "  </tbody>\n",
       "</table>\n",
       "</div>"
      ],
      "text/plain": [
       "   Unnamed: 0        x1        x2          y\n",
       "0           0  4.697532  1.135251 -18.284819\n",
       "1           1 -0.324355  1.042443  -0.251914\n",
       "2           2 -0.982079  4.053857  -2.350819\n",
       "3           3  2.637966  4.107375  -2.831104\n",
       "4           4  4.359560  3.727414 -12.663515"
      ]
     },
     "execution_count": 134,
     "metadata": {},
     "output_type": "execute_result"
    }
   ],
   "source": [
    "from sklearn.metrics import mean_squared_error\n",
    "from sklearn.preprocessing import StandardScaler\n",
    "import numpy as np\n",
    "import pandas as pd\n",
    "\n",
    "samples = pd.read_csv('samples.csv')\n",
    "\n",
    "samples.head()"
   ]
  },
  {
   "cell_type": "code",
   "execution_count": 135,
   "metadata": {},
   "outputs": [],
   "source": [
    "samples_X = samples[['x1', 'x2']]\n",
    "samples_y = samples[['y']]\n",
    "\n",
    "from sklearn.model_selection import train_test_split\n",
    "\n",
    "X_train, X_test, y_train, y_test = train_test_split(samples_X,\n",
    "                                                    samples_y,\n",
    "                                                    test_size = 0.2,\n",
    "                                                    random_state=42)\n"
   ]
  },
  {
   "cell_type": "code",
   "execution_count": 136,
   "metadata": {},
   "outputs": [
    {
     "data": {
      "text/plain": [
       "(40, 2)"
      ]
     },
     "execution_count": 136,
     "metadata": {},
     "output_type": "execute_result"
    }
   ],
   "source": [
    "X_train.shape"
   ]
  },
  {
   "cell_type": "code",
   "execution_count": 137,
   "metadata": {},
   "outputs": [
    {
     "data": {
      "text/plain": [
       "(40, 1)"
      ]
     },
     "execution_count": 137,
     "metadata": {},
     "output_type": "execute_result"
    }
   ],
   "source": [
    "y_train.shape"
   ]
  },
  {
   "cell_type": "code",
   "execution_count": 138,
   "metadata": {},
   "outputs": [
    {
     "data": {
      "text/plain": [
       "array([-0.89383182, -0.76824572])"
      ]
     },
     "execution_count": 138,
     "metadata": {},
     "output_type": "execute_result"
    }
   ],
   "source": [
    "from sklearn.linear_model import SGDRegressor\n",
    "from sklearn.metrics import mean_squared_error\n",
    "r = SGDRegressor()\n",
    "r.fit(X_train,y_train)\n",
    "r.coef_"
   ]
  },
  {
   "cell_type": "code",
   "execution_count": 139,
   "metadata": {},
   "outputs": [
    {
     "data": {
      "text/plain": [
       "46.603672328973246"
      ]
     },
     "execution_count": 139,
     "metadata": {},
     "output_type": "execute_result"
    }
   ],
   "source": [
    "y_pred = r.predict(X_train)\n",
    "mean_squared_error(y_pred, y_train)"
   ]
  },
  {
   "cell_type": "code",
   "execution_count": 140,
   "metadata": {},
   "outputs": [
    {
     "data": {
      "text/plain": [
       "array([[-0.08537268,  0.6014931 ]])"
      ]
     },
     "execution_count": 140,
     "metadata": {},
     "output_type": "execute_result"
    }
   ],
   "source": [
    "sgd.fit(X_train, y_train)\n",
    "sgd.W"
   ]
  },
  {
   "cell_type": "code",
   "execution_count": 141,
   "metadata": {},
   "outputs": [
    {
     "data": {
      "text/plain": [
       "90.24387987397617"
      ]
     },
     "execution_count": 141,
     "metadata": {},
     "output_type": "execute_result"
    }
   ],
   "source": [
    "y_p = sgd.predict(X_train)\n",
    "mean_squared_error(y_p, y_train)"
   ]
  },
  {
   "cell_type": "markdown",
   "metadata": {},
   "source": [
    "### Grid Search using SGD"
   ]
  },
  {
   "cell_type": "code",
   "execution_count": 142,
   "metadata": {},
   "outputs": [],
   "source": [
    "from sklearn.model_selection import GridSearchCV\n",
    "from sklearn.metrics import mean_squared_error\n",
    "\n",
    "# output diverges for learning_rate' >= 0.1\n",
    "\n",
    "parameters = {'learning_rate': [.0001, .001, .01],\n",
    "              'Lambda':[0, 10, 100],\n",
    "               'epochs': [15]}\n",
    "\n",
    "grid = GridSearchCV(sgd, parameters, \n",
    "                   cv=5, \n",
    "                   scoring='neg_mean_squared_error',\n",
    "                   verbose=0,\n",
    "                   refit=True,\n",
    "                   error_score='raise',)\n",
    "\n",
    "_ = grid.fit(X_train, y_train, update_rule='sgd')"
   ]
  },
  {
   "cell_type": "code",
   "execution_count": 143,
   "metadata": {},
   "outputs": [
    {
     "data": {
      "text/html": [
       "<div>\n",
       "<style scoped>\n",
       "    .dataframe tbody tr th:only-of-type {\n",
       "        vertical-align: middle;\n",
       "    }\n",
       "\n",
       "    .dataframe tbody tr th {\n",
       "        vertical-align: top;\n",
       "    }\n",
       "\n",
       "    .dataframe thead th {\n",
       "        text-align: right;\n",
       "    }\n",
       "</style>\n",
       "<table border=\"1\" class=\"dataframe\">\n",
       "  <thead>\n",
       "    <tr style=\"text-align: right;\">\n",
       "      <th></th>\n",
       "      <th>mean_test_score</th>\n",
       "      <th>param_learning_rate</th>\n",
       "      <th>param_Lambda</th>\n",
       "    </tr>\n",
       "  </thead>\n",
       "  <tbody>\n",
       "    <tr>\n",
       "      <th>6</th>\n",
       "      <td>-76.607049</td>\n",
       "      <td>0.0001</td>\n",
       "      <td>100</td>\n",
       "    </tr>\n",
       "    <tr>\n",
       "      <th>7</th>\n",
       "      <td>-76.934116</td>\n",
       "      <td>0.001</td>\n",
       "      <td>100</td>\n",
       "    </tr>\n",
       "  </tbody>\n",
       "</table>\n",
       "</div>"
      ],
      "text/plain": [
       "   mean_test_score param_learning_rate param_Lambda\n",
       "6       -76.607049              0.0001          100\n",
       "7       -76.934116               0.001          100"
      ]
     },
     "execution_count": 143,
     "metadata": {},
     "output_type": "execute_result"
    }
   ],
   "source": [
    "results = pd.DataFrame(grid.cv_results_)\n",
    "results = results[['mean_test_score', 'param_learning_rate', 'param_Lambda']]\n",
    "results = results.sort_values('mean_test_score', ascending=False)\n",
    "results.iloc[0:2,:]"
   ]
  },
  {
   "cell_type": "code",
   "execution_count": 144,
   "metadata": {
    "scrolled": false
   },
   "outputs": [
    {
     "data": {
      "text/plain": [
       "SGD(Lambda=100, epochs=15, learning_rate=0.001)"
      ]
     },
     "execution_count": 144,
     "metadata": {},
     "output_type": "execute_result"
    }
   ],
   "source": [
    "best0 = SGD(learning_rate=0.0001, Lambda=100, epochs=15)\n",
    "best0.fit(X_train, y_train)\n",
    "\n",
    "best1 = SGD(learning_rate=0.001, Lambda=100, epochs=15)\n",
    "best1.fit(X_train, y_train)"
   ]
  },
  {
   "cell_type": "code",
   "execution_count": 145,
   "metadata": {},
   "outputs": [
    {
     "data": {
      "image/png": "[encoded data removed]",
      "text/plain": [
       "<Figure size 432x288 with 1 Axes>"
      ]
     },
     "metadata": {
      "needs_background": "light"
     },
     "output_type": "display_data"
    }
   ],
   "source": [
    "_ = plt.scatter(range(15), best0.mse_hist, label='MSE (best)', marker='.')\n",
    "_ = plt.scatter(range(15), best1.mse_hist, label='MSE (2nd best)', marker='.')\n",
    "_ = plt.xlabel(\"Epochs\")\n",
    "_ = plt.ylabel(\"MSE\")\n",
    "_ = plt.title(\"MSE vs. Epochs\")\n",
    "_ = plt.legend()\n",
    "plt.show()"
   ]
  },
  {
   "cell_type": "code",
   "execution_count": 101,
   "metadata": {},
   "outputs": [
    {
     "data": {
      "image/png": "[encoded data removed]",
      "text/plain": [
       "<Figure size 432x288 with 1 Axes>"
      ]
     },
     "metadata": {
      "needs_background": "light"
     },
     "output_type": "display_data"
    }
   ],
   "source": [
    "plt.scatter(range(15), best0.W0_hist, label='$ w_0 $ (best)', marker=\"+\")\n",
    "plt.scatter(range(15), best0.W1_hist, label='$ w_1 $ (best)', marker='.')\n",
    "plt.scatter(range(15), best1.W0_hist, label='$ w_0 $ (2nd best)', marker=\",\")\n",
    "plt.scatter(range(15), best1.W1_hist, label='$ w_1 $ (2nd best)', marker='*')\n",
    "plt.xlabel(\"Epochs\")\n",
    "plt.ylabel(\"Weight Values\")\n",
    "plt.title(\"Weights vs. Epochs\")\n",
    "plt.legend()\n",
    "plt.show()"
   ]
  },
  {
   "cell_type": "markdown",
   "metadata": {},
   "source": [
    "### Grid Search using SGD w/ Momentum"
   ]
  },
  {
   "cell_type": "code",
   "execution_count": 146,
   "metadata": {},
   "outputs": [],
   "source": [
    "parameters = {'learning_rate': [.0001, .001, .01,],\n",
    "              'Lambda':[0, 10, 100],\n",
    "               'epochs': [15]}\n",
    "\n",
    "grid_momentum = GridSearchCV(sgd, parameters, \n",
    "                   cv=5, \n",
    "                   scoring='neg_mean_squared_error',\n",
    "                   verbose=0,\n",
    "                   refit=True,\n",
    "                   error_score='raise',)\n",
    "\n",
    "_ = grid_momentum.fit(X_train, y_train, update_rule='sgd_momentum')"
   ]
  },
  {
   "cell_type": "code",
   "execution_count": 147,
   "metadata": {},
   "outputs": [
    {
     "data": {
      "text/html": [
       "<div>\n",
       "<style scoped>\n",
       "    .dataframe tbody tr th:only-of-type {\n",
       "        vertical-align: middle;\n",
       "    }\n",
       "\n",
       "    .dataframe tbody tr th {\n",
       "        vertical-align: top;\n",
       "    }\n",
       "\n",
       "    .dataframe thead th {\n",
       "        text-align: right;\n",
       "    }\n",
       "</style>\n",
       "<table border=\"1\" class=\"dataframe\">\n",
       "  <thead>\n",
       "    <tr style=\"text-align: right;\">\n",
       "      <th></th>\n",
       "      <th>mean_test_score</th>\n",
       "      <th>param_learning_rate</th>\n",
       "      <th>param_Lambda</th>\n",
       "    </tr>\n",
       "  </thead>\n",
       "  <tbody>\n",
       "    <tr>\n",
       "      <th>6</th>\n",
       "      <td>-76.569620</td>\n",
       "      <td>0.0001</td>\n",
       "      <td>100</td>\n",
       "    </tr>\n",
       "    <tr>\n",
       "      <th>7</th>\n",
       "      <td>-76.779181</td>\n",
       "      <td>0.001</td>\n",
       "      <td>100</td>\n",
       "    </tr>\n",
       "  </tbody>\n",
       "</table>\n",
       "</div>"
      ],
      "text/plain": [
       "   mean_test_score param_learning_rate param_Lambda\n",
       "6       -76.569620              0.0001          100\n",
       "7       -76.779181               0.001          100"
      ]
     },
     "execution_count": 147,
     "metadata": {},
     "output_type": "execute_result"
    }
   ],
   "source": [
    "results = pd.DataFrame(grid_momentum.cv_results_)\n",
    "results = results[['mean_test_score', 'param_learning_rate', 'param_Lambda']]\n",
    "results = results.sort_values('mean_test_score', ascending=False)\n",
    "results.iloc[0:2,:]"
   ]
  },
  {
   "cell_type": "code",
   "execution_count": 148,
   "metadata": {},
   "outputs": [
    {
     "data": {
      "text/plain": [
       "SGD(Lambda=100, epochs=15, learning_rate=0.001)"
      ]
     },
     "execution_count": 148,
     "metadata": {},
     "output_type": "execute_result"
    }
   ],
   "source": [
    "best0_mom = SGD(learning_rate=0.0001, Lambda=100, epochs=15)\n",
    "best0_mom.fit(X_train, y_train, update_rule='sgd_momentum')\n",
    "\n",
    "best1_mom = SGD(learning_rate=0.001, Lambda=100, epochs=15)\n",
    "best1_mom.fit(X_train, y_train, update_rule='sgd_momentum')"
   ]
  },
  {
   "cell_type": "code",
   "execution_count": 151,
   "metadata": {},
   "outputs": [
    {
     "data": {
      "image/png": "[encoded data removed]",
      "text/plain": [
       "<Figure size 432x288 with 1 Axes>"
      ]
     },
     "metadata": {
      "needs_background": "light"
     },
     "output_type": "display_data"
    }
   ],
   "source": [
    "_ = plt.scatter(range(15), best0_mom.mse_hist, label='MSE (best)', marker='.')\n",
    "_ = plt.scatter(range(15), best1_mom.mse_hist, label='MSE (2nd best)', marker='.')\n",
    "_ = plt.xlabel(\"Epochs\")\n",
    "_ = plt.ylabel(\"MSE\")\n",
    "_ = plt.title(\"MSE vs. Epochs\")\n",
    "_ = plt.legend()\n",
    "plt.show()"
   ]
  },
  {
   "cell_type": "code",
   "execution_count": 152,
   "metadata": {},
   "outputs": [
    {
     "data": {
      "image/png": "[encoded data removed]",
      "text/plain": [
       "<Figure size 432x288 with 1 Axes>"
      ]
     },
     "metadata": {
      "needs_background": "light"
     },
     "output_type": "display_data"
    }
   ],
   "source": [
    "plt.scatter(range(15), best0_mom.W0_hist, label='$ w_0 $ (best)', marker=\"+\")\n",
    "plt.scatter(range(15), best0_mom.W1_hist, label='$ w_1 $ (best)', marker='.')\n",
    "plt.scatter(range(15), best1_mom.W0_hist, label='$ w_0 $ (2nd best)', marker=\",\")\n",
    "plt.scatter(range(15), best1_mom.W1_hist, label='$ w_1 $ (2nd best)', marker='*')\n",
    "plt.xlabel(\"Epochs\")\n",
    "plt.ylabel(\"Weight Values\")\n",
    "plt.title(\"Weights vs. Epochs\")\n",
    "plt.legend()\n",
    "plt.show()"
   ]
  },
  {
   "cell_type": "markdown",
   "metadata": {},
   "source": [
    "### Grid Search using RMSprop"
   ]
  },
  {
   "cell_type": "code",
   "execution_count": 153,
   "metadata": {},
   "outputs": [],
   "source": [
    "parameters = {'learning_rate': [.0001, .001, .01, 0.1, 1, 100],\n",
    "              'Lambda':[0, 10, 100],\n",
    "               'epochs': [15]}\n",
    "\n",
    "grid_rmsprop = GridSearchCV(sgd, parameters, \n",
    "                   cv=5, \n",
    "                   scoring='neg_mean_squared_error',\n",
    "                   verbose=0,\n",
    "                   refit=True,\n",
    "                   error_score='raise',)\n",
    "\n",
    "_ = grid_rmsprop.fit(X_train, y_train, update_rule='rmsprop')"
   ]
  },
  {
   "cell_type": "code",
   "execution_count": 154,
   "metadata": {},
   "outputs": [
    {
     "data": {
      "text/html": [
       "<div>\n",
       "<style scoped>\n",
       "    .dataframe tbody tr th:only-of-type {\n",
       "        vertical-align: middle;\n",
       "    }\n",
       "\n",
       "    .dataframe tbody tr th {\n",
       "        vertical-align: top;\n",
       "    }\n",
       "\n",
       "    .dataframe thead th {\n",
       "        text-align: right;\n",
       "    }\n",
       "</style>\n",
       "<table border=\"1\" class=\"dataframe\">\n",
       "  <thead>\n",
       "    <tr style=\"text-align: right;\">\n",
       "      <th></th>\n",
       "      <th>mean_test_score</th>\n",
       "      <th>param_learning_rate</th>\n",
       "      <th>param_Lambda</th>\n",
       "    </tr>\n",
       "  </thead>\n",
       "  <tbody>\n",
       "    <tr>\n",
       "      <th>14</th>\n",
       "      <td>-76.870774</td>\n",
       "      <td>0.01</td>\n",
       "      <td>100</td>\n",
       "    </tr>\n",
       "    <tr>\n",
       "      <th>8</th>\n",
       "      <td>-77.366719</td>\n",
       "      <td>0.01</td>\n",
       "      <td>10</td>\n",
       "    </tr>\n",
       "  </tbody>\n",
       "</table>\n",
       "</div>"
      ],
      "text/plain": [
       "    mean_test_score param_learning_rate param_Lambda\n",
       "14       -76.870774                0.01          100\n",
       "8        -77.366719                0.01           10"
      ]
     },
     "execution_count": 154,
     "metadata": {},
     "output_type": "execute_result"
    }
   ],
   "source": [
    "results = pd.DataFrame(grid_rmsprop.cv_results_)\n",
    "results = results[['mean_test_score', 'param_learning_rate', 'param_Lambda']]\n",
    "results = results.sort_values('mean_test_score', ascending=False)\n",
    "results.iloc[0:2,:]"
   ]
  },
  {
   "cell_type": "code",
   "execution_count": 155,
   "metadata": {},
   "outputs": [
    {
     "data": {
      "text/plain": [
       "SGD(Lambda=100, epochs=15, learning_rate=0.01)"
      ]
     },
     "execution_count": 155,
     "metadata": {},
     "output_type": "execute_result"
    }
   ],
   "source": [
    "best0_rms = SGD(learning_rate=1, Lambda=100, epochs=15)\n",
    "best0_rms.fit(X_train, y_train, update_rule='rmsprop')\n",
    "\n",
    "best1_rms = SGD(learning_rate=0.01, Lambda=100, epochs=15)\n",
    "best1_rms.fit(X_train, y_train, update_rule='rmsprop')"
   ]
  },
  {
   "cell_type": "code",
   "execution_count": 156,
   "metadata": {},
   "outputs": [
    {
     "data": {
      "image/png": "[encoded data removed]",
      "text/plain": [
       "<Figure size 432x288 with 1 Axes>"
      ]
     },
     "metadata": {
      "needs_background": "light"
     },
     "output_type": "display_data"
    }
   ],
   "source": [
    "_ = plt.scatter(range(15), best0_rms.mse_hist, label='MSE (best)', marker='.')\n",
    "_ = plt.scatter(range(15), best1_rms.mse_hist, label='MSE (2nd best)', marker='.')\n",
    "_ = plt.xlabel(\"Epochs\")\n",
    "_ = plt.ylabel(\"MSE\")\n",
    "_ = plt.title(\"MSE vs. Epochs\")\n",
    "_ = plt.legend()\n",
    "plt.show()"
   ]
  },
  {
   "cell_type": "code",
   "execution_count": 157,
   "metadata": {},
   "outputs": [
    {
     "data": {
      "image/png": "[encoded data removed]",
      "text/plain": [
       "<Figure size 432x288 with 1 Axes>"
      ]
     },
     "metadata": {
      "needs_background": "light"
     },
     "output_type": "display_data"
    }
   ],
   "source": [
    "plt.scatter(range(15), best0_rms.W0_hist, label='$ w_0 $ (best)', marker=\"+\")\n",
    "plt.scatter(range(15), best0_rms.W1_hist, label='$ w_1 $ (best)', marker='.')\n",
    "plt.scatter(range(15), best1_rms.W0_hist, label='$ w_0 $ (2nd best)', marker=\",\")\n",
    "plt.scatter(range(15), best1_rms.W1_hist, label='$ w_1 $ (2nd best)', marker='*')\n",
    "plt.xlabel(\"Epochs\")\n",
    "plt.ylabel(\"Weight Values\")\n",
    "plt.title(\"Weights vs. Epochs\")\n",
    "plt.legend()\n",
    "plt.show()"
   ]
  },
  {
   "cell_type": "markdown",
   "metadata": {},
   "source": [
    " 4. (2pts) Report the MSE at the end of 15 epochs for both combinations."
   ]
  },
  {
   "cell_type": "markdown",
   "metadata": {},
   "source": [
    "###### Vanilla SGD"
   ]
  },
  {
   "cell_type": "code",
   "execution_count": 163,
   "metadata": {},
   "outputs": [
    {
     "name": "stdout",
     "output_type": "stream",
     "text": [
      "For learning_rate=0.0001 and Lambda=100\n",
      "MSE = 76.52608\n",
      "For learning_rate=0.001 and Lambda=100\n",
      "MSE = 76.88421\n"
     ]
    }
   ],
   "source": [
    "print(\"For learning_rate={} and Lambda={}\".format(best0.learning_rate, best0.Lambda))\n",
    "pred = best0.predict(X_train)\n",
    "print(\"MSE = {:.5f}\".format(mean_squared_error(y_train, pred)))\n",
    "\n",
    "print(\"For learning_rate={} and Lambda={}\".format(best1.learning_rate, best1.Lambda))\n",
    "pred = best1.predict(X_train)\n",
    "print(\"MSE = {:.5f}\".format(mean_squared_error(y_train, pred)))\n",
    "\n"
   ]
  },
  {
   "cell_type": "markdown",
   "metadata": {},
   "source": [
    "###### SGD with momentum"
   ]
  },
  {
   "cell_type": "code",
   "execution_count": 165,
   "metadata": {},
   "outputs": [
    {
     "name": "stdout",
     "output_type": "stream",
     "text": [
      "For learning_rate=0.0001 and Lambda=100\n",
      "MSE = 76.55004\n",
      "For learning_rate=0.001 and Lambda=100\n",
      "MSE = 76.87586\n"
     ]
    }
   ],
   "source": [
    "print(\"For learning_rate={} and Lambda={}\".format(best0_mom.learning_rate, best0_mom.Lambda))\n",
    "pred = best0_mom.predict(X_train)\n",
    "print(\"MSE = {:.5f}\".format(mean_squared_error(y_train, pred)))\n",
    "\n",
    "print(\"For learning_rate={} and Lambda={}\".format(best1_mom.learning_rate, best1_mom.Lambda))\n",
    "pred = best1_mom.predict(X_train)\n",
    "print(\"MSE = {:.5f}\".format(mean_squared_error(y_train, pred)))"
   ]
  },
  {
   "cell_type": "markdown",
   "metadata": {},
   "source": [
    "###### RMSProp"
   ]
  },
  {
   "cell_type": "code",
   "execution_count": 168,
   "metadata": {},
   "outputs": [
    {
     "name": "stdout",
     "output_type": "stream",
     "text": [
      "For learning_rate=1 and Lambda=100\n",
      "MSE = 79.49918\n",
      "For learning_rate=0.01 and Lambda=100\n",
      "MSE = 76.81274\n"
     ]
    }
   ],
   "source": [
    "print(\"For learning_rate={} and Lambda={}\".format(best0_rms.learning_rate, best0_rms.Lambda))\n",
    "pred = best0_rms.predict(X_train)\n",
    "print(\"MSE = {:.5f}\".format(mean_squared_error(y_train, pred)))\n",
    "\n",
    "print(\"For learning_rate={} and Lambda={}\".format(best1_rms.learning_rate, best1_rms.Lambda))\n",
    "pred = best1_rms.predict(X_train)\n",
    "print(\"MSE = {:.5f}\".format(mean_squared_error(y_train, pred)))\n",
    "\n"
   ]
  },
  {
   "cell_type": "markdown",
   "metadata": {},
   "source": [
    "5. (3pts) Based on the experiments, which of the 3 techniques allowed for larger initial setting of the learning_rate? Why?\n"
   ]
  },
  {
   "cell_type": "markdown",
   "metadata": {},
   "source": [
    "RMS prop allowed for the largest initial setting of the learning rate because it is the method which most dampens any oscillations during gradient descent.\n",
    "\n",
    "In this particular case, the momentum was not enough to dampen the oscillations as the learning rate increased, but the moving average of rmsprop was enough and allowed the algorithm to converge at higher learning rates."
   ]
  },
  {
   "cell_type": "markdown",
   "metadata": {},
   "source": [
    "6. Now consider the following 2x2x1 network with one hidden layer. The input layer has two nodes, and the output layer has one node."
   ]
  },
  {
   "cell_type": "markdown",
   "metadata": {},
   "source": [
    "# TODO"
   ]
  },
  {
   "attachments": {
    "q1_networkdiagram.PNG": {
     "image/png": "[encoded data removed]"
    }
   },
   "cell_type": "markdown",
   "metadata": {},
   "source": [
    "![q1_networkdiagram.PNG](attachment:q1_networkdiagram.PNG)"
   ]
  },
  {
   "cell_type": "markdown",
   "metadata": {},
   "source": [
    "Both hidden layer units use a *sigmoid* activation function, and the output unit uses an identity activation (i.e. the output is just a weighted sum of the inputs).\n",
    "\n",
    "(a) (2pts) Write the output $y$ as a function of the inputs $x_1$ and $x_2$.\n",
    "\n",
    "(b) (2pts) Derive the update rule for the layer-one weight $w_{12}^{(1)}$."
   ]
  },
  {
   "cell_type": "markdown",
   "metadata": {},
   "source": [
    "# Notes on SGD with momentum\n",
    "Momentum helps accelerate SGD in relevant direction and dampens the oscillations. It tries to maintain the direction in which the gradient vector was already pointing and adjusts the direction slowly with the new gradients. The steps can be listed below :\n",
    "1. v[t] = mu * v[t-1] - (learning_rate)*(gradient)\n",
    "2. w = w + v\n",
    "\n",
    "Set mu = 0.90. Initialize v with zeros.\n"
   ]
  },
  {
   "cell_type": "markdown",
   "metadata": {},
   "source": [
    "# Notes on RMSProp\n",
    "RMSProp (http://ruder.io/optimizing-gradient-descent/) differs from vanilla SGD in that the learning rate of each weight changes over updates. The RMSProp update adjusts the Adagrad method in a very simple way in an attempt to reduce its aggressive, monotonically decreasing learning rate.  In particular, it uses a moving average of squared gradients as cache. The learning_rate is divided by the cache, resulting in a different learning rate for each weight. A consequence of this update rule is that weights that have already seen large gradients (made large jumps) make smaller updates in subsequent iterations.\n",
    "Specifically, the steps can be listed as below:\n",
    "1. cache = (decay_rate)*(cache) + (1 - decay_rate)*(gradients^2) \n",
    "2. weights = weights - ((learning_rate)/sqrt(cache+1e-6))*gradients\n",
    "\n",
    "Use decay_rate = 0.90. Initialize cache with zeros."
   ]
  },
  {
   "cell_type": "markdown",
   "metadata": {},
   "source": [
    "# (Optional) Notes on Training with Gradient Descent\n",
    "1. Compute error: This consists of a prediction error and a regularization term. From an implementation perspective, this is a function that takes as input the truth, prediction and regularization hyperparameter and returns an error\n",
    "2. Compute gradients: Take a derivative of the error in terms of the weights. This can be modelled as a function that takes as input the error and features and returns the gradients for each weight\n",
    "3. Update weights: Weight updates can be done using vanilla SGD or adaptive techniques. The update function takes as inputs the gradient and hyperparameters and returns the new weights."
   ]
  },
  {
   "cell_type": "markdown",
   "metadata": {},
   "source": [
    "# Question 2 - Multi-layer perceptron Regressor (15 pts)"
   ]
  },
  {
   "cell_type": "markdown",
   "metadata": {},
   "source": [
    "In this question, you will explore the application of Multi-layer Perceptron (MLP) regression using sklearn package in Python;\n",
    "http://scikit-learn.org/stable/modules/generated/sklearn.neural_network.MLPRegressor.html.\n",
    "\n",
    "\n",
    "We will use the OpenCL gemm kernel performance prediction dataset for this problem; https://archive.ics.uci.edu/ml/datasets/SGEMM+GPU+kernel+performance.\n",
    "\n",
    "Following code will pre-process the data and split the data into training and test set using [train_test_split](http://scikit-learn.org/stable/modules/generated/sklearn.model_selection.train_test_split.html) with **random state 30** and **test_size = 0.25**."
   ]
  },
  {
   "cell_type": "code",
   "execution_count": 37,
   "metadata": {
    "scrolled": true
   },
   "outputs": [
    {
     "name": "stdout",
     "output_type": "stream",
     "text": [
      "((181200, 14), (181200,), (60400, 14), (60400,))\n"
     ]
    }
   ],
   "source": [
    "import pandas as pd\n",
    "import numpy as np\n",
    "from sklearn.model_selection import (train_test_split,KFold)\n",
    "from sklearn.metrics import mean_squared_error\n",
    "from sklearn.neural_network import MLPRegressor\n",
    "from sklearn.preprocessing import StandardScaler\n",
    "import matplotlib.pyplot as plt\n",
    "import glob\n",
    "\n",
    "%matplotlib inline\n",
    "\n",
    "data = pd.read_csv('sgemm_product.csv') \n",
    "data['target'] = 0.25*(data['Run1 (ms)'] + data['Run2 (ms)']+ data['Run3 (ms)'] + data['Run4 (ms)'])\n",
    "y = data['target']\n",
    "y = y.as_matrix()\n",
    "X = data.drop(['target','Run1 (ms)', 'Run2 (ms)', 'Run3 (ms)', 'Run4 (ms)'], axis = 1)\n",
    "X_train, X_test, y_train, y_test = train_test_split(X,y,test_size = 0.25, random_state=30)\n",
    "\n",
    "print(X_train.shape, y_train.shape, X_test.shape, y_test.shape)"
   ]
  },
  {
   "cell_type": "markdown",
   "metadata": {},
   "source": [
    "One more thing to use in this problem is [StandardScaler](http://scikit-learn.org/stable/modules/generated/sklearn.preprocessing.StandardScaler.html). Instead of fitting a model on original data, use StandardScaler to make each feature centered ([Example](http://scikit-learn.org/stable/auto_examples/applications/plot_prediction_latency.html#sphx-glr-auto-examples-applications-plot-prediction-latency-py)). Whenever you have training and test data, fit a scaler on training data and use this scaler on test data. Here, scale only features (independent variables), not target variable y. "
   ]
  },
  {
   "cell_type": "markdown",
   "metadata": {},
   "source": [
    "1) (5pts) Use [sklearn.neural_nework.MLPRegressor](http://scikit-learn.org/stable/modules/generated/sklearn.neural_network.MLPRegressor.html#sklearn.neural_network.MLPRegressor) to do a 5-fold cross validation using sklearn's [KFold](http://scikit-learn.org/stable/modules/generated/sklearn.model_selection.KFold.html#sklearn.model_selection.KFold). The cross validation must be performed on the **training data**. Use following parameter settings for MLPRegressor:\n",
    "\n",
    "    activation = 'tanh', solver = 'sgd', learning_rate='constant', random_state=42,\n",
    "    batch_size=30, learning_rate_init = 0.005\n",
    "    \n",
    "   Report the average Root Mean Squared Error (RMSE) value based on your 5-fold cross validation for each model."
   ]
  },
  {
   "cell_type": "code",
   "execution_count": 44,
   "metadata": {},
   "outputs": [],
   "source": [
    "scaler = StandardScaler()\n",
    "Xs = pd.DataFrame(scaler.fit_transform(X), columns=X.columns.values)"
   ]
  },
  {
   "cell_type": "markdown",
   "metadata": {},
   "source": [
    "    (a) *hidden_layer_sizes = (2,)* "
   ]
  },
  {
   "cell_type": "code",
   "execution_count": 49,
   "metadata": {},
   "outputs": [
    {
     "name": "stdout",
     "output_type": "stream",
     "text": [
      "103.05431216367896\n"
     ]
    }
   ],
   "source": [
    "k_fold = KFold(5)\n",
    "\n",
    "mse = []\n",
    "\n",
    "for k, (train_index, test_index) in enumerate(k_fold.split(Xs, y)):\n",
    "\n",
    "    net = MLPRegressor(hidden_layer_sizes=(2,), \n",
    "                       activation = 'tanh', \n",
    "                       solver = 'sgd', \n",
    "                       learning_rate='constant', \n",
    "                       random_state=42,\n",
    "                       batch_size=30, \n",
    "                       learning_rate_init = 0.005)\n",
    "    \n",
    "    net.fit(Xs.iloc[train_index], y[train_index])\n",
    "    y_pred = net.predict(Xs.iloc[test_index])\n",
    "    mse.append(np.sqrt(mean_squared_error(y[test_index], y_pred)))\n",
    "\n",
    "min_mse = np.amin(mse)\n",
    "print(min_mse)"
   ]
  },
  {
   "cell_type": "markdown",
   "metadata": {},
   "source": [
    "    (b) *hidden_layer_sizes = (10,)*"
   ]
  },
  {
   "cell_type": "code",
   "execution_count": 50,
   "metadata": {},
   "outputs": [
    {
     "name": "stdout",
     "output_type": "stream",
     "text": [
      "128.90008188425193\n"
     ]
    }
   ],
   "source": [
    "k_fold = KFold(5)\n",
    "\n",
    "mse = []\n",
    "\n",
    "for k, (train_index, test_index) in enumerate(k_fold.split(Xs, y)):\n",
    "\n",
    "    net = MLPRegressor(hidden_layer_sizes=(10,), \n",
    "                       activation = 'tanh', \n",
    "                       solver = 'sgd', \n",
    "                       learning_rate='constant', \n",
    "                       random_state=42,\n",
    "                       batch_size=30, \n",
    "                       learning_rate_init = 0.005)\n",
    "    \n",
    "    net.fit(Xs.iloc[train_index], y[train_index])\n",
    "    y_pred = net.predict(Xs.iloc[test_index])\n",
    "    mse.append(np.sqrt(mean_squared_error(y[test_index], y_pred)))\n",
    "\n",
    "min_mse = np.amin(mse)\n",
    "print(min_mse)"
   ]
  },
  {
   "cell_type": "markdown",
   "metadata": {},
   "source": [
    "    (c) *hidden_layer_sizes = (30,)*"
   ]
  },
  {
   "cell_type": "code",
   "execution_count": 51,
   "metadata": {},
   "outputs": [
    {
     "name": "stdout",
     "output_type": "stream",
     "text": [
      "108.11805515720299\n"
     ]
    }
   ],
   "source": [
    "k_fold = KFold(5)\n",
    "\n",
    "mse = []\n",
    "\n",
    "for k, (train_index, test_index) in enumerate(k_fold.split(Xs, y)):\n",
    "\n",
    "    net = MLPRegressor(hidden_layer_sizes=(30,), \n",
    "                       activation = 'tanh', \n",
    "                       solver = 'sgd', \n",
    "                       learning_rate='constant', \n",
    "                       random_state=42,\n",
    "                       batch_size=30, \n",
    "                       learning_rate_init = 0.005)\n",
    "    \n",
    "    net.fit(Xs.iloc[train_index], y[train_index])\n",
    "    y_pred = net.predict(Xs.iloc[test_index])\n",
    "    mse.append(np.sqrt(mean_squared_error(y[test_index], y_pred)))\n",
    "\n",
    "min_mse = np.amin(mse)\n",
    "print(min_mse)"
   ]
  },
  {
   "cell_type": "markdown",
   "metadata": {},
   "source": [
    "    (d) *hidden_layer_sizes = (50,)*"
   ]
  },
  {
   "cell_type": "code",
   "execution_count": 52,
   "metadata": {},
   "outputs": [
    {
     "name": "stdout",
     "output_type": "stream",
     "text": [
      "108.54334898742249\n"
     ]
    }
   ],
   "source": [
    "k_fold = KFold(5)\n",
    "\n",
    "mse = []\n",
    "\n",
    "for k, (train_index, test_index) in enumerate(k_fold.split(Xs, y)):\n",
    "\n",
    "    net = MLPRegressor(hidden_layer_sizes=(50,), \n",
    "                       activation = 'tanh', \n",
    "                       solver = 'sgd', \n",
    "                       learning_rate='constant', \n",
    "                       random_state=42,\n",
    "                       batch_size=30, \n",
    "                       learning_rate_init = 0.005)\n",
    "    \n",
    "    net.fit(Xs.iloc[train_index], y[train_index])\n",
    "    y_pred = net.predict(Xs.iloc[test_index])\n",
    "    mse.append(np.sqrt(mean_squared_error(y[test_index], y_pred)))\n",
    "\n",
    "min_mse = np.amin(mse)\n",
    "print(min_mse)"
   ]
  },
  {
   "cell_type": "markdown",
   "metadata": {},
   "source": [
    "2) (5pts) Now, using the same parameters used in part 1), train MLPRegressor models on the entire training set and report the RMSE score for both the trainnig and testing sets (again, use StandardScaler). Which of the four models ((a)-(d)) performs the best? Briefly analyze and discuss the results, commenting on the number of hidden units."
   ]
  },
  {
   "cell_type": "code",
   "execution_count": 64,
   "metadata": {},
   "outputs": [],
   "source": [
    "scaler = StandardScaler()\n",
    "X_train_s = pd.DataFrame(scaler.fit_transform(X_train), columns=X_train.columns.values)\n",
    "X_test_s = pd.DataFrame(scaler.fit_transform(X_test), columns=X_test.columns.values)"
   ]
  },
  {
   "cell_type": "code",
   "execution_count": 71,
   "metadata": {},
   "outputs": [
    {
     "name": "stdout",
     "output_type": "stream",
     "text": [
      "MSE (train ): 274.90830\n",
      "MSE ( test ): 269.07247\n"
     ]
    }
   ],
   "source": [
    "net = MLPRegressor(hidden_layer_sizes=(2,), \n",
    "                       activation = 'tanh', \n",
    "                       solver = 'sgd', \n",
    "                       learning_rate='constant', \n",
    "                       random_state=42,\n",
    "                       batch_size=30, \n",
    "                       learning_rate_init = 0.005)\n",
    "\n",
    "net.fit(X_train_s, y_train)\n",
    "pred = net.predict(X_train_s)\n",
    "test_pred = net.predict(X_test_s)\n",
    "print(\"MSE (train ): {:.5f}\".format(np.sqrt(mean_squared_error(y_train, pred))))\n",
    "print(\"MSE ( test ): {:.5f}\".format(np.sqrt(mean_squared_error(y_test, test_pred))))"
   ]
  },
  {
   "cell_type": "code",
   "execution_count": 72,
   "metadata": {},
   "outputs": [
    {
     "name": "stdout",
     "output_type": "stream",
     "text": [
      "RMSE (train ): 208.49577\n",
      "RMSE ( test ): 205.61129\n"
     ]
    }
   ],
   "source": [
    "net = MLPRegressor(hidden_layer_sizes=(10,), \n",
    "                       activation = 'tanh', \n",
    "                       solver = 'sgd', \n",
    "                       learning_rate='constant', \n",
    "                       random_state=42,\n",
    "                       batch_size=30, \n",
    "                       learning_rate_init = 0.005)\n",
    "\n",
    "net.fit(X_train_s, y_train)\n",
    "pred = net.predict(X_train_s)\n",
    "test_pred = net.predict(X_test_s)\n",
    "print(\"RMSE (train ): {:.5f}\".format(np.sqrt(mean_squared_error(y_train, pred))))\n",
    "print(\"RMSE ( test ): {:.5f}\".format(np.sqrt(mean_squared_error(y_test, test_pred))))"
   ]
  },
  {
   "cell_type": "code",
   "execution_count": 73,
   "metadata": {},
   "outputs": [
    {
     "name": "stdout",
     "output_type": "stream",
     "text": [
      "RMSE (train ): 215.86258\n",
      "RMSE ( test ): 211.29863\n"
     ]
    }
   ],
   "source": [
    "net = MLPRegressor(hidden_layer_sizes=(30,), \n",
    "                       activation = 'tanh', \n",
    "                       solver = 'sgd', \n",
    "                       learning_rate='constant', \n",
    "                       random_state=42,\n",
    "                       batch_size=30, \n",
    "                       learning_rate_init = 0.005)\n",
    "\n",
    "net.fit(X_train_s, y_train)\n",
    "pred = net.predict(X_train_s)\n",
    "test_pred = net.predict(X_test_s)\n",
    "print(\"RMSE (train ): {:.5f}\".format(np.sqrt(mean_squared_error(y_train, pred))))\n",
    "print(\"RMSE ( test ): {:.5f}\".format(np.sqrt(mean_squared_error(y_test, test_pred))))"
   ]
  },
  {
   "cell_type": "code",
   "execution_count": 74,
   "metadata": {},
   "outputs": [
    {
     "name": "stdout",
     "output_type": "stream",
     "text": [
      "RMSE (train ): 164.07623\n",
      "RMSE ( test ): 164.31129\n"
     ]
    }
   ],
   "source": [
    "net = MLPRegressor(hidden_layer_sizes=(50,), \n",
    "                       activation = 'tanh', \n",
    "                       solver = 'sgd', \n",
    "                       learning_rate='constant', \n",
    "                       random_state=42,\n",
    "                       batch_size=30, \n",
    "                       learning_rate_init = 0.005)\n",
    "\n",
    "net.fit(X_train_s, y_train)\n",
    "pred = net.predict(X_train_s)\n",
    "test_pred = net.predict(X_test_s)\n",
    "print(\"RMSE (train ): {:.5f}\".format(np.sqrt(mean_squared_error(y_train, pred))))\n",
    "print(\"RMSE ( test ): {:.5f}\".format(np.sqrt(mean_squared_error(y_test, test_pred))))"
   ]
  },
  {
   "cell_type": "markdown",
   "metadata": {},
   "source": [
    "The models perfomed in the following order:\n",
    "\n",
    "50 hidden units >> 20 hidden units >> 30 hidden units >> 2 hidden units\n",
    "\n",
    "    (where the best was the 50 hidden unit model and the worst was the 2 hidden unit model)\n",
    "    \n",
    "The error on both the training and test sets decreased as the number of hidden units increased, suggesting that the model with the 2 hidden units had underfit to the data with comparison to the rest of the models. It is unclear why the 20 hidden unit model performed better than the 30 hidden unit model. However, the 50 hidden unit model fit very well to the training data and generalized very well too. The takeaway here is that increasing the number of hidden units increases the complexity of our model. Because of this, we must be careful about the number of hidden units that we select for a problem. Too many units and we overfit; too little units and we underfit."
   ]
  },
  {
   "cell_type": "markdown",
   "metadata": {},
   "source": [
    "3) (5pts) MLPRegressor has a built-in attribute *loss\\_curve\\_* which returns the loss at each epoch (misleadingly referred to as \"iteration\" in scikit documentation, though they use epoch in the actual code!). For example, if your model is named as *my_model* you can call it as *my\\_model.loss\\_curve\\_* ([example](http://scikit-learn.org/stable/auto_examples/neural_networks/plot_mlp_training_curves.html#sphx-glr-auto-examples-neural-networks-plot-mlp-training-curves-py)). Plot three curves using below conditions (a, b, c) in one figure, where *X-axis* is epoch  number and *Y-axis* is squared root of *loss\\_curve\\_* valu;:"
   ]
  },
  {
   "cell_type": "markdown",
   "metadata": {},
   "source": [
    "   (a) *hidden_layer_sizes = (1,)* \n"
   ]
  },
  {
   "cell_type": "code",
   "execution_count": 88,
   "metadata": {},
   "outputs": [
    {
     "data": {
      "image/png": "[encoded data removed]",
      "text/plain": [
       "<Figure size 432x288 with 1 Axes>"
      ]
     },
     "metadata": {
      "needs_background": "light"
     },
     "output_type": "display_data"
    }
   ],
   "source": [
    "net = MLPRegressor(hidden_layer_sizes=(1,), \n",
    "                       activation = 'tanh', \n",
    "                       solver = 'sgd', \n",
    "                       learning_rate='constant', \n",
    "                       random_state=42,\n",
    "                       batch_size=30, \n",
    "                       learning_rate_init = 0.005)\n",
    "\n",
    "net.fit(X_train_s, y_train)\n",
    "\n",
    "loss = np.sqrt(net.loss_curve_)\n",
    "epochs = range(len(loss))\n",
    "\n",
    "plt.plot(epochs, loss)\n",
    "plt.title(\"Loss vs. Epochs\")\n",
    "plt.xlabel(\"Epochs\")\n",
    "plt.ylabel(\"MSE\")\n",
    "plt.show()"
   ]
  },
  {
   "cell_type": "markdown",
   "metadata": {},
   "source": [
    "   (b) *hidden_layer_sizes = (5,)*\n"
   ]
  },
  {
   "cell_type": "code",
   "execution_count": 89,
   "metadata": {},
   "outputs": [
    {
     "data": {
      "image/png": "[encoded data removed]",
      "text/plain": [
       "<Figure size 432x288 with 1 Axes>"
      ]
     },
     "metadata": {
      "needs_background": "light"
     },
     "output_type": "display_data"
    }
   ],
   "source": [
    "net = MLPRegressor(hidden_layer_sizes=(5,), \n",
    "                       activation = 'tanh', \n",
    "                       solver = 'sgd', \n",
    "                       learning_rate='constant', \n",
    "                       random_state=42,\n",
    "                       batch_size=30, \n",
    "                       learning_rate_init = 0.005)\n",
    "\n",
    "net.fit(X_train_s, y_train)\n",
    "\n",
    "loss = np.sqrt(net.loss_curve_)\n",
    "epochs = range(len(loss))\n",
    "\n",
    "plt.plot(epochs, loss)\n",
    "plt.title(\"Loss vs. Epochs\")\n",
    "plt.xlabel(\"Epochs\")\n",
    "plt.ylabel(\"MSE\")\n",
    "plt.show()"
   ]
  },
  {
   "cell_type": "markdown",
   "metadata": {},
   "source": [
    "   (c) *hidden_layer_sizes = (10,)*"
   ]
  },
  {
   "cell_type": "code",
   "execution_count": 90,
   "metadata": {},
   "outputs": [
    {
     "data": {
      "image/png": "[encoded data removed]",
      "text/plain": [
       "<Figure size 432x288 with 1 Axes>"
      ]
     },
     "metadata": {
      "needs_background": "light"
     },
     "output_type": "display_data"
    }
   ],
   "source": [
    "net = MLPRegressor(hidden_layer_sizes=(10,), \n",
    "                       activation = 'tanh', \n",
    "                       solver = 'sgd', \n",
    "                       learning_rate='constant', \n",
    "                       random_state=42,\n",
    "                       batch_size=30, \n",
    "                       learning_rate_init = 0.005)\n",
    "\n",
    "net.fit(X_train_s, y_train)\n",
    "\n",
    "loss = np.sqrt(net.loss_curve_)\n",
    "epochs = range(len(loss))\n",
    "\n",
    "plt.plot(epochs, loss)\n",
    "plt.title(\"Loss vs. Epochs\")\n",
    "plt.xlabel(\"Epochs\")\n",
    "plt.ylabel(\"MSE\")\n",
    "plt.show()"
   ]
  },
  {
   "cell_type": "markdown",
   "metadata": {},
   "source": [
    "# Question 3 - [Kaggle Competition] Nomad2018 Predicting Transparent Conductors (25 pts)"
   ]
  },
  {
   "cell_type": "markdown",
   "metadata": {},
   "source": [
    "In this problem, we are going to explore a Kaggle competition: [Transparent Conductors](https://www.kaggle.com/c/nomad2018-predict-transparent-conductors). Your goal is to obtain the best score you can in this competition.\n",
    "\n",
    "The first step is to make a Kaggle account. Then find this competition and read the competition details and the description of the dataset. \n",
    "\n",
    "Your work should meet the following requirements:\n",
    "\n",
    "1. Data Preprocessing. \n",
    " * Conduct some data preprocessing. (Hint: see if there is any skewed features and consider applying suitable transformation techniques to make them more \"normal\").\n",
    " * Impute the missing values (if any).\n",
    " * Create new features using interactions\n",
    "2. Predictive Models. \n",
    " * You have to create three models: Lasso regression, Ridge regression, and multilayer perceptron.  For Lasso and Ridge regression, optimize the alphas using cross validation. For the MLP model, you can use one hidden layer. You may try other predictive models to get better scores (optional).\n",
    "3. Get a score of 0.0800 or lower on the Private Leaderboard. Take a screenshot of your private leaderboard after submission as proof. You can also click My Submissions tab to see the history of your submissions. It will show both Public Leaderboard & Private Leaderboard score.\n",
    "\n",
    "Briefly describe your work on each of these steps. Explain (very briefly) what approaches you tried, what worked and what did not work. Mention your team's kaggle name and include a screen shot of your public submission score. Finally, try your best to win this competition!"
   ]
  },
  {
   "cell_type": "markdown",
   "metadata": {},
   "source": [
    "## Answer"
   ]
  },
  {
   "cell_type": "markdown",
   "metadata": {},
   "source": [
    "# Question 4 - Bayes Decision Theory (10pts)"
   ]
  },
  {
   "cell_type": "markdown",
   "metadata": {},
   "source": [
    "a. (2pts) Explain what you understand by class-conditional likelihood, class priors, and posterior probability of a class given an input, and the relationship between them. Please define all symbols and equations used explicitly.\n",
    "\n",
    "b. (5pts) Suppose you want to learn a binary classifier to predict whether or not a customer will buy a TV. The class label is 0 if the patient does not buy and 1 if he/she does. For each customer, you are given two features, x1 is the per hour salary and x2 is the age. Assume that the class conditional distribution $p(x_1,x_2|C)$ is Gaussian. The mean salary and age of the people who do buy a TV is 40 and 27 respectively and that of those who don't is 16 and 20. Assume that both classes of customers have the same covariance given by the Identity matrix. Further, your sales data suggests that only 1 in 5 people actually bought a TV in the last few years. Mathematically derive the (optimal) Bayes decision boundary for this problem.\n",
    "\n",
    "c. (3pts) Write a script to sample 100 customers from each class (C = 0; 1) under the assumed distribution and the estimated parameters and plot their features. Plot the decision boundary you obtained in the part (b) on the same plot."
   ]
  },
  {
   "cell_type": "markdown",
   "metadata": {},
   "source": [
    "## Answer"
   ]
  },
  {
   "cell_type": "code",
   "execution_count": null,
   "metadata": {},
   "outputs": [],
   "source": []
  }
 ],
 "metadata": {
  "kernelspec": {
   "display_name": "Python 3",
   "language": "python",
   "name": "python3"
  },
  "language_info": {
   "codemirror_mode": {
    "name": "ipython",
    "version": 2
   },
   "file_extension": ".py",
   "mimetype": "text/x-python",
   "name": "python",
   "nbconvert_exporter": "python",
   "pygments_lexer": "ipython2",
   "version": "2.7.12"
  }
 },
 "nbformat": 4,
 "nbformat_minor": 2
}
