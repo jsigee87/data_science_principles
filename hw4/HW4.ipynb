{
 "cells": [
  {
   "cell_type": "markdown",
   "metadata": {},
   "source": [
    "\n",
    "# <p style=\"text-align: center;\">EE 461P: Data Science Principles</p>\n",
    "# <p style=\"text-align: center;\">Assignment 4</p>\n",
    "## <p style=\"text-align: center;\">Total points: 65</p>\n",
    "## <p style=\"text-align: center;\">Due: Tuesday, November 13th, submitted via Canvas by 11:59 pm</p>\n",
    "\n",
    "Your homework should be written in a **Jupyter notebook**. You may work in groups of two if you wish. Only one student per team needs to submit the assignment on Canvas.  **Please include the name and UTEID for both students on all submitted files (including this notebook).** In addition, please convert **your filename including your EID** (ex. ss324.jpynb or ss324_mj345.jpypb).\n",
    "\n",
    "Also, please make sure your code runs and the graphics (and anything else) are displayed in your notebook before submitting. (%matplotlib inline)"
   ]
  },
  {
   "cell_type": "markdown",
   "metadata": {},
   "source": [
    "# Question 0 - Bayes Decision Theory (10pts)\n",
    "(From HW3)"
   ]
  },
  {
   "cell_type": "markdown",
   "metadata": {},
   "source": [
    "#### a. (2pts) Explain what you understand by class-conditional likelihood, class priors, and posterior probability of a class given an input, and the relationship between them. Please define all symbols and equations used explicitly.\n",
    "\n",
    "**Data Prior:** $ p(x) $ is the probability distribution of the data. In the context of a classification problem, X consists of our data points, and we try to estimate a probablity densitity funciton $ p_{X}(x) $ that we can use for classification.\n",
    "\n",
    "**Class Prior:** $ p(C_{i}) $ represents our prior beliefs about the probability distributions for each class.\n",
    "\n",
    "**Class-conditional likelihood:** $ p(x_{i}|C) $ represents what we believe the probability distribution of our dataset $ X $ looks like given our prior beliefs about the distrubition of the classes.\n",
    "\n",
    "**Posterior:** Using Bayes Rule, $ p(C_i|x) $ will yield the probability that some point from our dataset belongs to a particular class $ C_i $.\n",
    "\n",
    "b. (5pts) Suppose you want to learn a binary classifier to predict whether or not a customer will buy a TV. The class label is 0 if the patient does not buy and 1 if he/she does. For each customer, you are given two features, x1 is the per hour salary and x2 is the age. Assume that the class conditional distribution $p(x_1,x_2|C)$ is Gaussian. The mean salary and age of the people who do buy a TV is 40 and 27 respectively and that of those who don't is 16 and 20. Assume that both classes of customers have the same covariance given by the Identity matrix. Further, your sales data suggests that only 1 in 5 people actually bought a TV in the last few years. Mathematically derive the (optimal) Bayes decision boundary for this problem.\n",
    "\n",
    "![Imgur](https://i.imgur.com/XosVqJz.png)\n",
    "\n",
    "c. (3pts) Write a script to sample 100 customers from each class (C = 0; 1) under the assumed distribution and the estimated parameters and plot their features. Plot the decision boundary on the same plot."
   ]
  },
  {
   "cell_type": "code",
   "execution_count": 43,
   "metadata": {},
   "outputs": [
    {
     "data": {
      "image/png": "[encoded data removed]",
      "text/plain": [
       "<Figure size 432x288 with 1 Axes>"
      ]
     },
     "metadata": {
      "needs_background": "light"
     },
     "output_type": "display_data"
    }
   ],
   "source": [
    "from scipy.stats import multivariate_normal\n",
    "from mpl_toolkits.mplot3d import Axes3D\n",
    "u0 = np.array((16, 20)) # class 0\n",
    "u1 = np.array((40, 27)) # class 1\n",
    "cov = np.identity(2)\n",
    "pxc0 = multivariate_normal(u0, cov)\n",
    "pxc1 = multivariate_normal(u1, cov)\n",
    "x = np.linspace(0,45,500)\n",
    "y = np.linspace(0,40,500)\n",
    "X, Y = np.meshgrid(x,y)\n",
    "pos = np.empty(X.shape + (2,))\n",
    "pos[:, :, 0] = X; pos[:, :, 1] = Y\n",
    "plt.contour(X,Y, pxc0.pdf(pos))\n",
    "plt.contour(X,Y, pxc1.pdf(pos))\n",
    "plt.title(\"Bayes Decision Rule Separation of $ x_{1} $ and $ x_{2} $\")\n",
    "plt.xlabel(\"$ x_{1} $ distribution\")\n",
    "plt.ylabel(\"$ x_{2} $ distribution\")\n",
    "plt.plot(x, 1673/14 - 48*x/14, label=\"$ 48x_{1} + 14x_{2} = 1673 $\")\n",
    "plt.ylim((0,50))\n",
    "plt.legend(loc=3)\n",
    "plt.show()"
   ]
  },
  {
   "cell_type": "markdown",
   "metadata": {},
   "source": [
    "# Question 1 - Reject Option (20 Points)\n"
   ]
  },
  {
   "cell_type": "markdown",
   "metadata": {},
   "source": [
    "For the Loss matrix given below, compute  the range of P(C1|x) where (i) It is best to call \"Class 1\", and (ii) where it is best to take the reject option."
   ]
  },
  {
   "cell_type": "code",
   "execution_count": 6,
   "metadata": {},
   "outputs": [
    {
     "data": {
      "text/html": [
       "<div>\n",
       "<style scoped>\n",
       "    .dataframe tbody tr th:only-of-type {\n",
       "        vertical-align: middle;\n",
       "    }\n",
       "\n",
       "    .dataframe tbody tr th {\n",
       "        vertical-align: top;\n",
       "    }\n",
       "\n",
       "    .dataframe thead th {\n",
       "        text-align: right;\n",
       "    }\n",
       "</style>\n",
       "<table border=\"1\" class=\"dataframe\">\n",
       "  <thead>\n",
       "    <tr style=\"text-align: right;\">\n",
       "      <th></th>\n",
       "      <th>Decision C1</th>\n",
       "      <th>Decision C2</th>\n",
       "      <th>Decision Reject</th>\n",
       "    </tr>\n",
       "    <tr>\n",
       "      <th>Truth</th>\n",
       "      <th></th>\n",
       "      <th></th>\n",
       "      <th></th>\n",
       "    </tr>\n",
       "  </thead>\n",
       "  <tbody>\n",
       "    <tr>\n",
       "      <th>C1</th>\n",
       "      <td>0</td>\n",
       "      <td>6</td>\n",
       "      <td>2</td>\n",
       "    </tr>\n",
       "    <tr>\n",
       "      <th>C2</th>\n",
       "      <td>4</td>\n",
       "      <td>0</td>\n",
       "      <td>2</td>\n",
       "    </tr>\n",
       "  </tbody>\n",
       "</table>\n",
       "</div>"
      ],
      "text/plain": [
       "       Decision C1  Decision C2  Decision Reject\n",
       "Truth                                           \n",
       "C1               0            6                2\n",
       "C2               4            0                2"
      ]
     },
     "execution_count": 6,
     "metadata": {},
     "output_type": "execute_result"
    }
   ],
   "source": [
    "import pandas as pd\n",
    "data = [[\"C1\", 0, 6, 2], [\"C2\", 4, 0, 2]]\n",
    "df = pd.DataFrame(data, columns=[\"Truth\", \"Decision C1\", \"Decision C2\", \"Decision Reject\"])\n",
    "df.set_index(\"Truth\")"
   ]
  },
  {
   "cell_type": "code",
   "execution_count": 45,
   "metadata": {},
   "outputs": [],
   "source": [
    "alpha = np.linspace(0,1,500)"
   ]
  },
  {
   "cell_type": "code",
   "execution_count": 68,
   "metadata": {},
   "outputs": [
    {
     "name": "stderr",
     "output_type": "stream",
     "text": [
      "/home/daniel/Documents/Fall_2018/Data_Mining/data_science_principles/.env/lib/python3.5/site-packages/ipykernel_launcher.py:3: RuntimeWarning: divide by zero encountered in true_divide\n",
      "  This is separate from the ipykernel package so we can avoid doing imports until\n"
     ]
    }
   ],
   "source": [
    "call_class1 = alpha*(0) + (1-alpha)*4\n",
    "call_class2 = alpha*(6) + (1-alpha)*0\n",
    "reject = 1 - (2/((1-alpha)*4))"
   ]
  },
  {
   "cell_type": "code",
   "execution_count": 66,
   "metadata": {},
   "outputs": [
    {
     "data": {
      "image/png": "[encoded data removed]",
      "text/plain": [
       "<Figure size 432x288 with 1 Axes>"
      ]
     },
     "metadata": {
      "needs_background": "light"
     },
     "output_type": "display_data"
    }
   ],
   "source": [
    "plt.plot(alpha, call_class1, label=\"$ E[L] $ (class 1)\")\n",
    "plt.plot(alpha, call_class2, label=\"$ E[L] $ (class 2)\")\n",
    "plt.xlabel(\"$ p(C_{i}|x) $\")\n",
    "plt.ylabel(\"$ E[L] $\")\n",
    "plt.axvline(x=0.4, color='g', label=\"$ p(C_{1}|x) = 0.4 $\")\n",
    "plt.title(\"$ E[L] $ vs. varying thresholds $ p(C_{i}|x) $\")\n",
    "plt.legend()\n",
    "plt.show()\n"
   ]
  },
  {
   "cell_type": "markdown",
   "metadata": {},
   "source": [
    "Given the above graph, it is *cheaper* to call it class 1 when $ p(C_{i}|x) > 0.4$"
   ]
  },
  {
   "cell_type": "markdown",
   "metadata": {},
   "source": [
    "## Answer"
   ]
  },
  {
   "cell_type": "markdown",
   "metadata": {},
   "source": [
    "# Question 2 - Concepts (15 pts)"
   ]
  },
  {
   "cell_type": "markdown",
   "metadata": {},
   "source": [
    "1. (3+3+4 pts) Briefly describe what you understand by a Lift curve/chart? How is it similar to an ROC curve and in what way is it different? Provide an example where you might prefer using Lift (for a certain decile) over AUROC (AUC) as a point measure of the performance of your classifier. (Point measure means evaluation using a single numeric value.)\n",
    "\n",
    "\n",
    "2. (5 pts) Explain what it means to calibrate a classifier. Give an example of an application where having a well calibrated model is important, and it is not enough to just estimate what the most likely class label is for a given data point."
   ]
  },
  {
   "cell_type": "markdown",
   "metadata": {},
   "source": [
    "## Answer"
   ]
  },
  {
   "cell_type": "markdown",
   "metadata": {},
   "source": [
    "# Question 3 - MNIST Classification (20 pts)\n",
    "\n",
    "In this problem, you will classify between digits 8 and 9 of the MNIST dataset using Logistic Regression, Naive Bayes, and MLP. The code below loads the dataset, splits it into training and testing sets, and extracts the images containing either 8 or 9. The modules you will need from scikit-learn are loaded for you.\n",
    "\n",
    "1. Train Logistic Regression, (Gaussian) Naive Bayes, and MLP classifiers. Extract the probability of the class being 'Digit 8' or 'Digit 9' for every row.\n",
    "\n",
    "2. (6 pts) Use this to plot the receiver operating characteristic (ROC) curve. (one figure for all 3 models, with a label for each line)\n",
    "\n",
    "3. (6 pts) Report the area under the ROC curve (AUC) and the accuracy for each model.\n",
    "\n",
    "4. (6 pts)  For each of the 3 models, show a scatterplot of the obtained posterior probability estimates  vs. ground truth label value, for the data points in the test set. \n",
    "\n",
    "5. (2 pts) What do you notice about the distribution of the Naive Bayes estimated posterior probability values compared to the estimates from the other two models? "
   ]
  },
  {
   "cell_type": "code",
   "execution_count": 2,
   "metadata": {},
   "outputs": [
    {
     "name": "stdout",
     "output_type": "stream",
     "text": [
      "(11742, 784) (11742,) (2041, 784) (2041,)\n"
     ]
    }
   ],
   "source": [
    "# Alternatively, if you have trouble running fetch_mldata(), you can run this cell to get X_train, y_train, X_test, and y_test\n",
    "# I.e., run this cell OR the above 3 to continue with answering this problem.\n",
    "\n",
    "%matplotlib inline\n",
    "import pandas as pd\n",
    "from sklearn.model_selection import train_test_split\n",
    "from sklearn.metrics import roc_curve, roc_auc_score\n",
    "from sklearn.naive_bayes import GaussianNB\n",
    "from sklearn.linear_model import LogisticRegression\n",
    "from sklearn.neural_network import MLPClassifier\n",
    "import numpy as np\n",
    "import matplotlib.pyplot as plt\n",
    "import pickle\n",
    "\n",
    "with open('q3_data.pickle', 'rb') as handle:\n",
    "    data1 = pickle.load(handle)\n",
    "\n",
    "X_train = data1['X_train']\n",
    "y_train = data1['y_train']\n",
    "X_test = data1['X_test']\n",
    "y_test = data1['y_test']\n",
    "\n",
    "print(X_train.shape, y_train.shape, X_test.shape, y_test.shape)"
   ]
  },
  {
   "cell_type": "code",
   "execution_count": 4,
   "metadata": {},
   "outputs": [
    {
     "name": "stdout",
     "output_type": "stream",
     "text": [
      "(0, 784) (0,) (0, 784) (0,)\n"
     ]
    }
   ],
   "source": [
    "digits = [8, 9]\n",
    "idx = (y_train == digits[0]) + (y_train==digits[1])\n",
    "X_train = X_train[idx]\n",
    "y_train = y_train[idx]\n",
    "y_train = (y_train-digits[0])\n",
    "\n",
    "idx = (y_test == digits[0]) + (y_test==digits[1])\n",
    "X_test = X_test[idx]\n",
    "y_test = y_test[idx]\n",
    "y_test = (y_test-digits[0])\n",
    "\n",
    "print(X_train.shape, y_train.shape, X_test.shape, y_test.shape)"
   ]
  },
  {
   "cell_type": "code",
   "execution_count": null,
   "metadata": {},
   "outputs": [],
   "source": []
  }
 ],
 "metadata": {
  "kernelspec": {
   "display_name": "Python 3",
   "language": "python",
   "name": "python3"
  },
  "language_info": {
   "codemirror_mode": {
    "name": "ipython",
    "version": 3
   },
   "file_extension": ".py",
   "mimetype": "text/x-python",
   "name": "python",
   "nbconvert_exporter": "python",
   "pygments_lexer": "ipython3",
   "version": "3.5.2"
  }
 },
 "nbformat": 4,
 "nbformat_minor": 2
}
